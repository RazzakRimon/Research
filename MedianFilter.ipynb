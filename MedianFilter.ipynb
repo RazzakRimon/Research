{
 "cells": [
  {
   "cell_type": "code",
   "execution_count": 4,
   "id": "eb33f44d",
   "metadata": {},
   "outputs": [
    {
     "name": "stdout",
     "output_type": "stream",
     "text": [
      "Defaulting to user installation because normal site-packages is not writeable\n",
      "Requirement already satisfied: opencv-python in c:\\users\\user\\appdata\\roaming\\python\\python310\\site-packages (4.8.0.76)\n",
      "Requirement already satisfied: numpy>=1.19.3 in c:\\programdata\\anaconda3\\lib\\site-packages (from opencv-python) (1.23.5)\n"
     ]
    },
    {
     "data": {
      "text/plain": [
       "True"
      ]
     },
     "execution_count": 4,
     "metadata": {},
     "output_type": "execute_result"
    }
   ],
   "source": [
    "!pip install opencv-python\n",
    "import cv2\n",
    "import numpy as np\n",
    "from skimage import img_as_ubyte\n",
    "\n",
    "## original image\n",
    "img = cv2.imread('img1.jpg', 0)\n",
    "img = img/img.max() # normalize the pixel value (0~1)\n",
    "\n",
    "\n",
    "x,y = img.shape\n",
    "g = np.zeros((x,y), dtype=np.float32)\n",
    "pepper = 0.1\n",
    "salt = 0.95  \n",
    "for i in range(x):\n",
    "    for j in range(y):\n",
    "        rdn = np.random.random()\n",
    "        if rdn < pepper:\n",
    "            g[i][j] = 0\n",
    "        elif rdn > salt:\n",
    "            g[i][j] = 1\n",
    "        else:\n",
    "            g[i][j] = img[i][j]\n",
    "\n",
    "img_noise = g\n",
    "\n",
    "# preview the images\n",
    "cv2.imshow('Original Image', img)\n",
    "#cv2.imshow('Image + Noise', img_noise)\n",
    "\n",
    "cv2.waitKey(0)\n",
    "cv2.destroyAllWindows()\n",
    "\n",
    "## denoise image\n",
    "# mean filter (average)\n",
    "m = 5\n",
    "n = 5\n",
    "denoise_mean = cv2.blur(img_noise, (m,n))\n",
    "\n",
    "# median filter\n",
    "img_noise_median = np.clip(img_noise, -1, 1) #pixel value range\n",
    "img_noise_median = img_as_ubyte(img_noise_median) #convert to uint8\n",
    "denoise_median = cv2.medianBlur(img_noise_median, 5)\n",
    "\n",
    "# preview the images\n",
    "cv2.imshow('Original Image', img)\n",
    "#cv2.imshow('Image + Noise', img_noise)\n",
    "#cv2.imshow('Denoise Mean', denoise_mean)\n",
    "cv2.imshow('Denoise Median', denoise_median)\n",
    "\n",
    "cv2.waitKey(0)\n",
    "cv2.destroyAllWindows()\n",
    "\n",
    "# (optional) save the result\n",
    "#cv2.imwrite('Denoise mean.jpg', img_as_ubyte(denoise_mean))\n",
    "cv2.imwrite('Denoise median.jpg', img_as_ubyte(denoise_median))"
   ]
  },
  {
   "cell_type": "code",
   "execution_count": null,
   "id": "942c511f",
   "metadata": {},
   "outputs": [],
   "source": []
  },
  {
   "cell_type": "code",
   "execution_count": null,
   "id": "bdb0f961",
   "metadata": {},
   "outputs": [],
   "source": []
  }
 ],
 "metadata": {
  "kernelspec": {
   "display_name": "Python 3 (ipykernel)",
   "language": "python",
   "name": "python3"
  },
  "language_info": {
   "codemirror_mode": {
    "name": "ipython",
    "version": 3
   },
   "file_extension": ".py",
   "mimetype": "text/x-python",
   "name": "python",
   "nbconvert_exporter": "python",
   "pygments_lexer": "ipython3",
   "version": "3.10.9"
  }
 },
 "nbformat": 4,
 "nbformat_minor": 5
}
