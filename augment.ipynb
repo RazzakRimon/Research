{
 "cells": [
  {
   "cell_type": "code",
   "execution_count": 1,
   "id": "cc178c18",
   "metadata": {},
   "outputs": [
    {
     "name": "stdout",
     "output_type": "stream",
     "text": [
      "Defaulting to user installation because normal site-packages is not writeable\n",
      "Requirement already satisfied: Augmentor in c:\\users\\user\\appdata\\roaming\\python\\python310\\site-packages (0.2.12)\n",
      "Requirement already satisfied: numpy>=1.11.0 in c:\\programdata\\anaconda3\\lib\\site-packages (from Augmentor) (1.23.5)\n",
      "Requirement already satisfied: Pillow>=5.2.0 in c:\\programdata\\anaconda3\\lib\\site-packages (from Augmentor) (9.4.0)\n",
      "Requirement already satisfied: tqdm>=4.9.0 in c:\\programdata\\anaconda3\\lib\\site-packages (from Augmentor) (4.64.1)\n",
      "Requirement already satisfied: colorama in c:\\programdata\\anaconda3\\lib\\site-packages (from tqdm>=4.9.0->Augmentor) (0.4.6)\n",
      "Initialised with 1 image(s) found.\n",
      "Output directory set to C:\\Users\\User\\Documents\\augment_images\\python\\output."
     ]
    },
    {
     "name": "stderr",
     "output_type": "stream",
     "text": [
      "Processing <PIL.Image.Image image mode=RGB size=1280x957 at 0x153B777DE10>: 100%|█| 50/50 [00:02<00:00, 21.94 Samples/s\n"
     ]
    }
   ],
   "source": [
    "!pip install Augmentor\n",
    "import Augmentor\n",
    "p = Augmentor.Pipeline(r\"C:\\Users\\User\\Documents\\augment_images\\python\")\n",
    "p.rotate(probability=0.7, max_left_rotation=10, max_right_rotation=10)\n",
    "p.zoom(probability=0.5, min_factor=1.1, max_factor=1.5)\n",
    "p.rotate(probability=1, max_left_rotation=5, max_right_rotation=5)\n",
    "p.flip_left_right(probability=0.5)\n",
    "p.zoom_random(probability=0.5, percentage_area=0.8)\n",
    "p.flip_top_bottom(probability=0.5)\n",
    "p.sample(50)"
   ]
  },
  {
   "cell_type": "code",
   "execution_count": null,
   "id": "fa436352",
   "metadata": {},
   "outputs": [],
   "source": []
  }
 ],
 "metadata": {
  "kernelspec": {
   "display_name": "Python 3 (ipykernel)",
   "language": "python",
   "name": "python3"
  },
  "language_info": {
   "codemirror_mode": {
    "name": "ipython",
    "version": 3
   },
   "file_extension": ".py",
   "mimetype": "text/x-python",
   "name": "python",
   "nbconvert_exporter": "python",
   "pygments_lexer": "ipython3",
   "version": "3.10.9"
  }
 },
 "nbformat": 4,
 "nbformat_minor": 5
}
